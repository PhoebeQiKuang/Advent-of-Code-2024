{
 "cells": [
  {
   "cell_type": "code",
   "execution_count": 1,
   "id": "74b49051",
   "metadata": {},
   "outputs": [
    {
     "name": "stdout",
     "output_type": "stream",
     "text": [
      "330\n",
      "950763269786650\n"
     ]
    }
   ],
   "source": [
    "def count_ways(design, patterns):\n",
    "    dp = [0] * (len(design) + 1)\n",
    "    dp[0] = 1  # one way to form empty string\n",
    "    for i in range(1, len(design) + 1):\n",
    "        for j in range(i):\n",
    "            if dp[j] > 0 and design[j:i] in patterns:\n",
    "                dp[i] += dp[j]\n",
    "    return dp[len(design)]\n",
    "\n",
    "def main():\n",
    "    with open(\"input.txt\", \"r\") as f:\n",
    "        lines = f.read().split('\\n')\n",
    "    \n",
    "    # The first line: available towel patterns, comma-separated\n",
    "    pattern_line = lines[0].strip()\n",
    "    patterns = set(p.strip() for p in pattern_line.split(',') if p.strip())\n",
    "    \n",
    "    # Find the blank line separating patterns from designs\n",
    "    blank_index = None\n",
    "    for i in range(1, len(lines)):\n",
    "        if lines[i].strip() == \"\":\n",
    "            blank_index = i\n",
    "            break\n",
    "\n",
    "    designs = lines[blank_index+1:] if blank_index is not None else []\n",
    "\n",
    "    count_possible = 0\n",
    "    total_ways = 0\n",
    "    for design in designs:\n",
    "        design = design.strip()\n",
    "        if not design:\n",
    "            continue\n",
    "        ways = count_ways(design, patterns)\n",
    "        if ways > 0:\n",
    "            count_possible += 1\n",
    "            total_ways += ways\n",
    "\n",
    "    # Part 1\n",
    "    print(count_possible)\n",
    "    # Part 2\n",
    "    print(total_ways)\n",
    "\n",
    "if __name__ == \"__main__\":\n",
    "    main()"
   ]
  }
 ],
 "metadata": {
  "kernelspec": {
   "display_name": "Python 3 (ipykernel)",
   "language": "python",
   "name": "python3"
  },
  "language_info": {
   "codemirror_mode": {
    "name": "ipython",
    "version": 3
   },
   "file_extension": ".py",
   "mimetype": "text/x-python",
   "name": "python",
   "nbconvert_exporter": "python",
   "pygments_lexer": "ipython3",
   "version": "3.11.4"
  }
 },
 "nbformat": 4,
 "nbformat_minor": 5
}
