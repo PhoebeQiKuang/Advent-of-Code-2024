{
 "cells": [
  {
   "cell_type": "code",
   "execution_count": 1,
   "id": "83c14c1a",
   "metadata": {},
   "outputs": [],
   "source": [
    "from collections import deque\n",
    "from functools import cache\n",
    "from itertools import pairwise"
   ]
  },
  {
   "cell_type": "code",
   "execution_count": 2,
   "id": "c17a1f44",
   "metadata": {},
   "outputs": [
    {
     "name": "stdout",
     "output_type": "stream",
     "text": [
      "Part 1: 211930\n",
      "Part 2: 263492840501566\n"
     ]
    }
   ],
   "source": [
    "def parse_input():\n",
    "    with open(\"input.txt\", \"r\") as file:\n",
    "        data = file.read()\n",
    "    return data.splitlines()\n",
    "\n",
    "CODES = parse_input()\n",
    "N_PAD = {\n",
    "    \"0\": [(\"2\", \"^\"), (\"A\", \">\")],\n",
    "    \"1\": [(\"2\", \">\"), (\"4\", \"^\")],\n",
    "    \"2\": [(\"0\", \"v\"), (\"1\", \"<\"), (\"3\", \">\"), (\"5\", \"^\")],\n",
    "    \"3\": [(\"2\", \"<\"), (\"6\", \"^\"), (\"A\", \"v\")],\n",
    "    \"4\": [(\"1\", \"v\"), (\"5\", \">\"), (\"7\", \"^\")],\n",
    "    \"5\": [(\"2\", \"v\"), (\"4\", \"<\"), (\"6\", \">\"), (\"8\", \"^\")],\n",
    "    \"6\": [(\"3\", \"v\"), (\"5\", \"<\"), (\"9\", \"^\")],\n",
    "    \"7\": [(\"4\", \"v\"), (\"8\", \">\")],\n",
    "    \"8\": [(\"5\", \"v\"), (\"7\", \"<\"), (\"9\", \">\")],\n",
    "    \"9\": [(\"6\", \"v\"), (\"8\", \"<\")],\n",
    "    \"A\": [(\"0\", \"<\"), (\"3\", \"^\")],\n",
    "}\n",
    "D_PAD = {\n",
    "    \"^\": [(\"A\", \">\"), (\"v\", \"v\")],\n",
    "    \"<\": [(\"v\", \">\")],\n",
    "    \"v\": [(\"<\", \"<\"), (\"^\", \"^\"), (\">\", \">\")],\n",
    "    \">\": [(\"v\", \"<\"), (\"A\", \"^\")],\n",
    "    \"A\": [(\"^\", \"<\"), (\">\", \"v\")],\n",
    "}\n",
    "PADS = [N_PAD, D_PAD]\n",
    "\n",
    "\n",
    "def bfs(u, v, g):\n",
    "    q = deque([(u, [])])\n",
    "    seen = {u}\n",
    "    shortest = None\n",
    "    res = []\n",
    "    while q:\n",
    "        cur, path = q.popleft()\n",
    "        if cur == v:\n",
    "            if shortest is None:\n",
    "                shortest = len(path)\n",
    "            if len(path) == shortest:\n",
    "                res.append(\"\".join(path + [\"A\"]))\n",
    "            continue\n",
    "        if shortest and len(path) >= shortest:\n",
    "            continue\n",
    "        for nei, d in g[cur]:\n",
    "            seen.add(nei)\n",
    "            q.append((nei, path + [d]))\n",
    "    return res\n",
    "\n",
    "\n",
    "@cache\n",
    "def dfs(seq, level, i=0):\n",
    "    g = PADS[i]\n",
    "    res = 0\n",
    "    seq = \"A\" + seq\n",
    "    for u, v in pairwise(seq):\n",
    "        paths = bfs(u, v, g)\n",
    "        if level == 0:\n",
    "            res += min(map(len, paths))\n",
    "        else:\n",
    "            res += min(dfs(path, level - 1, 1) for path in paths)\n",
    "    return res\n",
    "\n",
    "\n",
    "def part_one():\n",
    "    return sum(dfs(code, 2) * int(code[:3]) for code in CODES)\n",
    "\n",
    "\n",
    "def part_two():\n",
    "    return sum(dfs(code, 25) * int(code[:3]) for code in CODES)\n",
    "\n",
    "print(f\"Part 1: {part_one()}\")\n",
    "print(f\"Part 2: {part_two()}\")"
   ]
  }
 ],
 "metadata": {
  "kernelspec": {
   "display_name": "Python 3 (ipykernel)",
   "language": "python",
   "name": "python3"
  },
  "language_info": {
   "codemirror_mode": {
    "name": "ipython",
    "version": 3
   },
   "file_extension": ".py",
   "mimetype": "text/x-python",
   "name": "python",
   "nbconvert_exporter": "python",
   "pygments_lexer": "ipython3",
   "version": "3.11.4"
  }
 },
 "nbformat": 4,
 "nbformat_minor": 5
}
