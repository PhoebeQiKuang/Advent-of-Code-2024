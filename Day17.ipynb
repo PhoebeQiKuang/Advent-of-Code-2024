{
 "cells": [
  {
   "cell_type": "code",
   "execution_count": 1,
   "id": "073f3015",
   "metadata": {},
   "outputs": [],
   "source": [
    "def exec_program(prog, reg):\n",
    "    pc = 0\n",
    "    output = []\n",
    "    \n",
    "    while pc < len(prog):\n",
    "        op = prog[pc]\n",
    "        operand = prog[pc + 1]\n",
    "        \n",
    "        if operand < 4:\n",
    "            combo = operand\n",
    "        else:\n",
    "            combo = reg[operand - 4]\n",
    "        \n",
    "        if op == 0:  # adv\n",
    "            reg[0] = reg[0] // (2 ** combo)\n",
    "        elif op == 1:  # bxl\n",
    "            reg[1] ^= operand\n",
    "        elif op == 2:  # bst\n",
    "            reg[1] = combo % 8\n",
    "        elif op == 3:  # jnz\n",
    "            if reg[0] != 0:\n",
    "                pc = operand\n",
    "                continue\n",
    "        elif op == 4:  # bxc\n",
    "            reg[1] ^= reg[2]\n",
    "        elif op == 5:  # out\n",
    "            output.append(combo % 8)\n",
    "        elif op == 6:  # bdv\n",
    "            reg[1] = reg[0] // (2 ** combo)\n",
    "        elif op == 7:  # cdv\n",
    "            reg[2] = reg[0] // (2 ** combo)\n",
    "        \n",
    "        pc += 2\n",
    "    \n",
    "    return output\n",
    "\n",
    "def part_1(reg, prog):\n",
    "    result = exec_program(prog, reg)\n",
    "    return ','.join(map(str, result))\n",
    "\n",
    "def part_2(prog):\n",
    "    target = prog[:]  # Copy of the program to compare with outputs\n",
    "    to_visit = [(len(prog), 0)]\n",
    "    solutions = []\n",
    "    \n",
    "    while to_visit:\n",
    "        pos, a = to_visit.pop(0)\n",
    "        for i in range(8):\n",
    "            n_a = a * 8 + i\n",
    "            output = exec_program(prog, [n_a, 0, 0])\n",
    "            if output == target[pos-1:]:\n",
    "                to_visit.append((pos - 1, n_a))\n",
    "                if len(output) == len(prog):\n",
    "                    solutions.append(n_a)\n",
    "    return min(solutions)"
   ]
  },
  {
   "cell_type": "code",
   "execution_count": 2,
   "id": "729d49b3",
   "metadata": {},
   "outputs": [],
   "source": [
    "registers = [22571680, 0, 0]  # Example register values\n",
    "program = [2, 4, 1, 3, 7, 5, 0, 3, 4, 3, 1, 5, 5, 5, 3, 0]"
   ]
  },
  {
   "cell_type": "code",
   "execution_count": 3,
   "id": "178f1ec9",
   "metadata": {},
   "outputs": [
    {
     "name": "stdout",
     "output_type": "stream",
     "text": [
      "Output of Part 1: 2,0,1,3,4,0,2,1,7\n",
      "Solutions for Part 2: 236580836040301\n"
     ]
    }
   ],
   "source": [
    "output_part1 = part_1(registers, program)\n",
    "print(\"Output of Part 1:\", output_part1)\n",
    "\n",
    "solutions_part2 = part_2(program)\n",
    "print(\"Solutions for Part 2:\", solutions_part2)"
   ]
  }
 ],
 "metadata": {
  "kernelspec": {
   "display_name": "Python 3 (ipykernel)",
   "language": "python",
   "name": "python3"
  },
  "language_info": {
   "codemirror_mode": {
    "name": "ipython",
    "version": 3
   },
   "file_extension": ".py",
   "mimetype": "text/x-python",
   "name": "python",
   "nbconvert_exporter": "python",
   "pygments_lexer": "ipython3",
   "version": "3.11.4"
  }
 },
 "nbformat": 4,
 "nbformat_minor": 5
}
