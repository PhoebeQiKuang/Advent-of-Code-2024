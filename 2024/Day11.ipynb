{
 "cells": [
  {
   "cell_type": "code",
   "execution_count": 1,
   "id": "8b7d88a7",
   "metadata": {},
   "outputs": [],
   "source": [
    "def count_stones_after_blinks(initial_stones, blink_count):\n",
    "    stones = initial_stones.copy()\n",
    "    for _ in range(blink_count):\n",
    "        new_stones = []\n",
    "        for num in stones:\n",
    "            if num == 0:\n",
    "                new_stones.append(1)\n",
    "            else:\n",
    "                num_str = str(num)\n",
    "                if len(num_str) % 2 == 0:\n",
    "                    half = len(num_str) // 2\n",
    "                    left_str = num_str[:half].lstrip('0') or '0'\n",
    "                    right_str = num_str[half:].lstrip('0') or '0'\n",
    "                    left_num = int(left_str)\n",
    "                    right_num = int(right_str)\n",
    "                    new_stones.extend([left_num, right_num])\n",
    "                else:\n",
    "                    new_num = num * 2024\n",
    "                    new_stones.append(new_num)\n",
    "        stones = new_stones\n",
    "    print(len(stones))"
   ]
  },
  {
   "cell_type": "code",
   "execution_count": 2,
   "id": "bec7d35c",
   "metadata": {},
   "outputs": [
    {
     "name": "stdout",
     "output_type": "stream",
     "text": [
      "186203\n"
     ]
    }
   ],
   "source": [
    "# Initial arrangement of stones\n",
    "initial_stones = [4189, 413, 82070, 61, 655813, 7478611, 0, 8]\n",
    "\n",
    "# Number of blinks to simulate\n",
    "blink_count = 25\n",
    "\n",
    "# Calculate and print the number of stones after the specified number of blinks\n",
    "count_stones_after_blinks(initial_stones, blink_count)"
   ]
  },
  {
   "cell_type": "code",
   "execution_count": 3,
   "id": "8b8d5491",
   "metadata": {},
   "outputs": [],
   "source": [
    "# This will literally take forever dude, we need to come up with some better idea\n",
    "# blink_count = 75\n",
    "# count_stones_after_blinks(initial_stones, blink_count)"
   ]
  },
  {
   "cell_type": "code",
   "execution_count": 4,
   "id": "94a81dea",
   "metadata": {},
   "outputs": [
    {
     "name": "stdout",
     "output_type": "stream",
     "text": [
      "Number of stones after 75 blinks: 221291560078593\n"
     ]
    }
   ],
   "source": [
    "from functools import lru_cache\n",
    "\n",
    "def count_stones_after_blinks(initial_stones, blink_count):\n",
    "    \"\"\"\n",
    "    Calculates the total number of stones after a given number of blinks using memoization.\n",
    "    \n",
    "    Parameters:\n",
    "    - initial_stones (list of int): The initial arrangement of stones.\n",
    "    - blink_count (int): The number of blinks to simulate.\n",
    "    \n",
    "    Returns:\n",
    "    - int: The total number of stones after the specified number of blinks.\n",
    "    \"\"\"\n",
    "    \n",
    "    @lru_cache(maxsize=None)\n",
    "    def f(n, b):\n",
    "        \"\"\"\n",
    "        Returns the number of stones resulting from stone 'n' after 'b' blinks.\n",
    "        \n",
    "        Parameters:\n",
    "        - n (int): The number engraved on the stone.\n",
    "        - b (int): The number of remaining blinks.\n",
    "        \n",
    "        Returns:\n",
    "        - int: Number of resulting stones.\n",
    "        \"\"\"\n",
    "        if b == 0:\n",
    "            return 1\n",
    "        if n == 0:\n",
    "            # Rule 1: 0 becomes 1\n",
    "            return f(1, b - 1)\n",
    "        num_str = str(n)\n",
    "        if len(num_str) % 2 == 0:\n",
    "            # Rule 2: Split into two stones\n",
    "            half = len(num_str) // 2\n",
    "            left_str = num_str[:half].lstrip('0') or '0'\n",
    "            right_str = num_str[half:].lstrip('0') or '0'\n",
    "            left_num = int(left_str)\n",
    "            right_num = int(right_str)\n",
    "            return f(left_num, b - 1) + f(right_num, b - 1)\n",
    "        else:\n",
    "            # Rule 3: Multiply by 2024\n",
    "            new_num = n * 2024\n",
    "            return f(new_num, b - 1)\n",
    "    \n",
    "    total = 0\n",
    "    for stone in initial_stones:\n",
    "        total += f(stone, blink_count)\n",
    "    return total\n",
    "\n",
    "# Example Usage\n",
    "initial_stones = [4189, 413, 82070, 61, 655813, 7478611, 0, 8]\n",
    "blink_count = 75\n",
    "result = count_stones_after_blinks(initial_stones, blink_count)\n",
    "print(f\"Number of stones after {blink_count} blinks: {result}\")"
   ]
  }
 ],
 "metadata": {
  "kernelspec": {
   "display_name": "Python 3 (ipykernel)",
   "language": "python",
   "name": "python3"
  },
  "language_info": {
   "codemirror_mode": {
    "name": "ipython",
    "version": 3
   },
   "file_extension": ".py",
   "mimetype": "text/x-python",
   "name": "python",
   "nbconvert_exporter": "python",
   "pygments_lexer": "ipython3",
   "version": "3.11.4"
  }
 },
 "nbformat": 4,
 "nbformat_minor": 5
}
