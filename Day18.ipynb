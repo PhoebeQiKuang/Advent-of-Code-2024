{
 "cells": [
  {
   "cell_type": "code",
   "execution_count": 1,
   "id": "b6cde9d9",
   "metadata": {},
   "outputs": [],
   "source": [
    "import re\n",
    "import sys\n",
    "import numpy as np\n",
    "from heapq import heappop, heappush"
   ]
  },
  {
   "cell_type": "code",
   "execution_count": 2,
   "id": "f799d48d",
   "metadata": {},
   "outputs": [
    {
     "name": "stdout",
     "output_type": "stream",
     "text": [
      "Part 1 Result: 270\n"
     ]
    }
   ],
   "source": [
    "import re\n",
    "import sys\n",
    "import numpy as np\n",
    "from heapq import heappop, heappush\n",
    "\n",
    "with open('input.txt') as f:\n",
    "    lines = f.readlines()\n",
    "\n",
    "coords = [[int(num) for num in re.findall(r'\\d+', line)] for line in lines]\n",
    "\n",
    "gridsize = 71\n",
    "bytesfallen = 1024\n",
    "gridlines = []\n",
    "for i in range(gridsize):\n",
    "    line = []\n",
    "    for j in range(gridsize):\n",
    "        line.append('.')\n",
    "    gridlines.append(line)\n",
    "\n",
    "for coord in coords[:bytesfallen]:\n",
    "    gridlines[coord[1]][coord[0]] = '#'\n",
    "\n",
    "grid = np.array(gridlines)\n",
    "start = [0,0]\n",
    "end = [gridsize-1,gridsize-1]\n",
    "\n",
    "q = [(0, start)]\n",
    "visited = {}\n",
    "min_cost = sys.maxsize\n",
    "\n",
    "while q:\n",
    "    (cost, [y, x]) = heappop(q)\n",
    "    \n",
    "    if [y,x] == end:\n",
    "        min_cost = min(min_cost, cost)\n",
    "        break\n",
    "\n",
    "    cost += 1\n",
    "\n",
    "    if y <= gridsize-2 and grid[y+1, x] == '.' and ((y+1, x) not in visited or visited[(y+1, x)] > cost):\n",
    "        visited[(y+1, x)] = cost\n",
    "        heappush(q, (cost, [y+1, x]))\n",
    "    if y >= 1 and grid[y-1, x] == '.' and ((y-1, x) not in visited or visited[(y-1, x)] > cost):\n",
    "        visited[(y-1, x)] = cost\n",
    "        heappush(q, (cost, [y-1, x]))\n",
    "    if x <= gridsize-2 and grid[y, x+1] == '.' and ((y, x+1) not in visited or visited[(y, x+1)] > cost):\n",
    "        visited[(y, x+1)] = cost\n",
    "        heappush(q, (cost, [y, x+1]))\n",
    "    if x >= 1 and grid[y, x-1] == '.' and ((y, x-1) not in visited or visited[(y, x-1)] > cost):\n",
    "        visited[(y, x-1)] = cost\n",
    "        heappush(q, (cost, [y, x-1]))\n",
    "        \n",
    "print(\"Part 1 Result:\", min_cost)"
   ]
  },
  {
   "cell_type": "code",
   "execution_count": 3,
   "id": "72fa9a87",
   "metadata": {},
   "outputs": [
    {
     "name": "stdout",
     "output_type": "stream",
     "text": [
      "51,40\n"
     ]
    }
   ],
   "source": [
    "for coord in coords[:1024]:\n",
    "    grid[coord[1],coord[0]] = '#'\n",
    "\n",
    "for coord in coords[1024:]:\n",
    "    grid[coord[1],coord[0]] = '#'\n",
    "\n",
    "    q = [(0, start)]\n",
    "    visited = {}\n",
    "    min_cost = sys.maxsize\n",
    "\n",
    "    while q:\n",
    "        (cost, [y, x]) = heappop(q)\n",
    "        \n",
    "        if [y,x] == end:\n",
    "            min_cost = min(min_cost, cost)\n",
    "            break\n",
    "\n",
    "        cost += 1\n",
    "\n",
    "        if y <= gridsize-2 and grid[y+1, x] == '.' and ((y+1, x) not in visited or visited[(y+1, x)] > cost):\n",
    "            visited[(y+1, x)] = cost\n",
    "            heappush(q, (cost, [y+1, x]))\n",
    "        if y >= 1 and grid[y-1, x] == '.' and ((y-1, x) not in visited or visited[(y-1, x)] > cost):\n",
    "            visited[(y-1, x)] = cost\n",
    "            heappush(q, (cost, [y-1, x]))\n",
    "        if x <= gridsize-2 and grid[y, x+1] == '.' and ((y, x+1) not in visited or visited[(y, x+1)] > cost):\n",
    "            visited[(y, x+1)] = cost\n",
    "            heappush(q, (cost, [y, x+1]))\n",
    "        if x >= 1 and grid[y, x-1] == '.' and ((y, x-1) not in visited or visited[(y, x-1)] > cost):\n",
    "            visited[(y, x-1)] = cost\n",
    "            heappush(q, (cost, [y, x-1]))\n",
    "    \n",
    "    if min_cost == sys.maxsize:\n",
    "        print(','.join(map(str,coord)))\n",
    "        break"
   ]
  }
 ],
 "metadata": {
  "kernelspec": {
   "display_name": "Python 3 (ipykernel)",
   "language": "python",
   "name": "python3"
  },
  "language_info": {
   "codemirror_mode": {
    "name": "ipython",
    "version": 3
   },
   "file_extension": ".py",
   "mimetype": "text/x-python",
   "name": "python",
   "nbconvert_exporter": "python",
   "pygments_lexer": "ipython3",
   "version": "3.11.4"
  }
 },
 "nbformat": 4,
 "nbformat_minor": 5
}
